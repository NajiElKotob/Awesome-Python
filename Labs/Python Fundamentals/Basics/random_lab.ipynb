{
 "metadata": {
  "language_info": {
   "codemirror_mode": {
    "name": "ipython",
    "version": 3
   },
   "file_extension": ".py",
   "mimetype": "text/x-python",
   "name": "python",
   "nbconvert_exporter": "python",
   "pygments_lexer": "ipython3",
   "version": "3.7.4-final"
  },
  "orig_nbformat": 2,
  "kernelspec": {
   "name": "python3",
   "display_name": "Python 3.7.4 64-bit",
   "metadata": {
    "interpreter": {
     "hash": "0ea1a236e4e98546d7b048c7e7469c1483f85bd77665ee6cf26539350b8e4df8"
    }
   }
  }
 },
 "nbformat": 4,
 "nbformat_minor": 2,
 "cells": [
  {
   "cell_type": "code",
   "execution_count": 1,
   "metadata": {},
   "outputs": [],
   "source": [
    "# Import random\n",
    "from random import randint as rnd"
   ]
  },
  {
   "cell_type": "code",
   "execution_count": 2,
   "metadata": {},
   "outputs": [
    {
     "output_type": "stream",
     "name": "stdout",
     "text": [
      "[25, 17, 12, 21, 12, 28, 29, 13, 14, 17, 13, 26, 14, 30, 13, 16, 19, 12, 17, 14, 23, 12, 19, 23, 11, 10, 24, 18, 15, 20, 21, 25, 18, 18, 29, 11, 10, 15, 22, 18, 26, 17, 13, 25, 23, 24, 23, 26, 13, 24, 20, 21, 16, 11, 12, 14, 14, 14, 25, 25, 22, 25, 14, 22, 10, 23, 26, 12, 21, 18, 22, 29, 16, 18, 30, 18, 12, 22, 23, 11, 13, 23, 16, 29, 26, 22, 21, 10, 11, 19, 15, 19, 27, 14, 19, 27, 24, 24, 20, 23]\n"
     ]
    }
   ],
   "source": [
    "# Generate 100 random numbers between 10 and 30\n",
    "r = [rnd(10, 30) for i in range(100)]\n",
    "print(r)"
   ]
  },
  {
   "cell_type": "code",
   "execution_count": null,
   "metadata": {},
   "outputs": [],
   "source": []
  }
 ]
}